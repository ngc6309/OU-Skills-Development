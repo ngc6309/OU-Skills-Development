{
 "cells": [
  {
   "cell_type": "markdown",
   "metadata": {},
   "source": [
    "# Fitting models to data \n",
    "\n",
    "A common scientific task is to formulate a mathematical model and 'fit' that model to experimental data. One of the simplest and most used ways of doing this is called 'Linear least squares regression'. It is what is usually meant when terms like  \"regression\", \"linear regression\" or \"least squares\" are used.\n",
    "\n",
    "In the least squares method, we have a mathematical model, defined with a number of parameters, and some data points. As an example, a simple model (straight line) would be \"y=mx + c\" which has 2 parameters 'm' (the slope or gradienat of the line) and 'c' (the intercept. \n",
    "\n",
    "The regression process is one of optmising the 'fit' of the line to the data by establishing the 'best' values for the parameters that minimises the sum of the squared distances, or deviations, between the data and the model.\n",
    "\n",
    "In this notebook, we'll explore how to do this using some of the fitting tools and functions available with Python.\n",
    "\n",
    "We'll do all the imports and other housekeeping we need here before moving on\n"
   ]
  },
  {
   "cell_type": "code",
   "execution_count": 53,
   "metadata": {},
   "outputs": [],
   "source": [
    "import numpy as np\n",
    "import pandas as pd\n",
    "import matplotlib.pyplot as plt\n",
    "\n",
    "# These 2 lines just allow 'pretty' printing of pandas stuff - non-essential\n",
    "from IPython.core.interactiveshell import InteractiveShell\n",
    "InteractiveShell.ast_node_interactivity = \"all\""
   ]
  },
  {
   "cell_type": "markdown",
   "metadata": {},
   "source": [
    "\n",
    "## 1. The data\n",
    "\n",
    "For the purposes of the next few sections of this notebook, a file with data is provided. This looks like typical experimental data that might be modeled with a straight line. There are 4 columns - 'xdat' and 'ydat', which are the x and y values, and 'xerr' and 'yerr' which are the estimated uncertainties or errors on the x and y data points.\n",
    "\n",
    "First, we'll read in the data and make a rough plot.\n"
   ]
  },
  {
   "cell_type": "code",
   "execution_count": 54,
   "metadata": {},
   "outputs": [
    {
     "data": {
      "text/html": [
       "<div>\n",
       "<style scoped>\n",
       "    .dataframe tbody tr th:only-of-type {\n",
       "        vertical-align: middle;\n",
       "    }\n",
       "\n",
       "    .dataframe tbody tr th {\n",
       "        vertical-align: top;\n",
       "    }\n",
       "\n",
       "    .dataframe thead th {\n",
       "        text-align: right;\n",
       "    }\n",
       "</style>\n",
       "<table border=\"1\" class=\"dataframe\">\n",
       "  <thead>\n",
       "    <tr style=\"text-align: right;\">\n",
       "      <th></th>\n",
       "      <th>xdat</th>\n",
       "      <th>ydat</th>\n",
       "      <th>xerr</th>\n",
       "      <th>yerr</th>\n",
       "    </tr>\n",
       "  </thead>\n",
       "  <tbody>\n",
       "    <tr>\n",
       "      <th>0</th>\n",
       "      <td>3.10</td>\n",
       "      <td>8.10</td>\n",
       "      <td>0.20</td>\n",
       "      <td>1.4</td>\n",
       "    </tr>\n",
       "    <tr>\n",
       "      <th>1</th>\n",
       "      <td>3.45</td>\n",
       "      <td>8.35</td>\n",
       "      <td>0.10</td>\n",
       "      <td>0.4</td>\n",
       "    </tr>\n",
       "    <tr>\n",
       "      <th>2</th>\n",
       "      <td>3.75</td>\n",
       "      <td>9.85</td>\n",
       "      <td>0.50</td>\n",
       "      <td>0.3</td>\n",
       "    </tr>\n",
       "    <tr>\n",
       "      <th>3</th>\n",
       "      <td>5.00</td>\n",
       "      <td>10.75</td>\n",
       "      <td>0.85</td>\n",
       "      <td>0.2</td>\n",
       "    </tr>\n",
       "    <tr>\n",
       "      <th>4</th>\n",
       "      <td>4.65</td>\n",
       "      <td>12.55</td>\n",
       "      <td>0.70</td>\n",
       "      <td>1.1</td>\n",
       "    </tr>\n",
       "  </tbody>\n",
       "</table>\n",
       "</div>"
      ],
      "text/plain": [
       "   xdat   ydat  xerr  yerr\n",
       "0  3.10   8.10  0.20   1.4\n",
       "1  3.45   8.35  0.10   0.4\n",
       "2  3.75   9.85  0.50   0.3\n",
       "3  5.00  10.75  0.85   0.2\n",
       "4  4.65  12.55  0.70   1.1"
      ]
     },
     "execution_count": 54,
     "metadata": {},
     "output_type": "execute_result"
    },
    {
     "data": {
      "text/plain": [
       "<matplotlib.collections.PathCollection at 0x22b644687f0>"
      ]
     },
     "execution_count": 54,
     "metadata": {},
     "output_type": "execute_result"
    },
    {
     "data": {
      "image/png": "[encoded data removed]",
      "text/plain": [
       "<Figure size 432x288 with 1 Axes>"
      ]
     },
     "metadata": {
      "needs_background": "light"
     },
     "output_type": "display_data"
    }
   ],
   "source": [
    "# Read in the data\n",
    "df = pd.read_csv('line_data.csv')\n",
    "\n",
    "# What does it look like? - just for info\n",
    "df.head()\n",
    "\n",
    "# Set up x and y - not strictly necessary, but convenient\n",
    "x=df['xdat']\n",
    "y=df['ydat']\n",
    "y0=y\n",
    "\n",
    "plt.scatter(x,y)"
   ]
  },
  {
   "cell_type": "markdown",
   "metadata": {},
   "source": [
    "##  2. Simple regression - scipy linregress()\n",
    "\n",
    "So, that looks like a straight line might fit - and we can do that simply by using scipy.stats.linregress()\n",
    "\n",
    "This gives us a least squares fit, returning the slope, intercept, rvalue, pvalue and a standard error. The rvaluesquared tells you something about the 'goodness' of the fit - the closer to 1 the better.\n"
   ]
  },
  {
   "cell_type": "code",
   "execution_count": 40,
   "metadata": {},
   "outputs": [
    {
     "name": "stdout",
     "output_type": "stream",
     "text": [
      "Gradient is 2.3, Intercept is 0.4 and standard error is 0.09\n"
     ]
    },
    {
     "data": {
      "text/plain": [
       "<matplotlib.collections.PathCollection at 0x22b63205be0>"
      ]
     },
     "execution_count": 40,
     "metadata": {},
     "output_type": "execute_result"
    },
    {
     "data": {
      "text/plain": [
       "[<matplotlib.lines.Line2D at 0x22b631dd2e8>]"
      ]
     },
     "execution_count": 40,
     "metadata": {},
     "output_type": "execute_result"
    },
    {
     "data": {
      "image/png": "[encoded data removed]",
      "text/plain": [
       "<Figure size 432x288 with 1 Axes>"
      ]
     },
     "metadata": {
      "needs_background": "light"
     },
     "output_type": "display_data"
    }
   ],
   "source": [
    "from scipy.stats import linregress\n",
    "\n",
    "m,c,r_val,p_val,sterr = linregress(x,y)\n",
    "\n",
    "print(f'Gradient is {m:.1f}, Intercept is {c:.1f} and standard error is {sterr:.2f}')\n",
    "\n",
    "# Plot the line on to the data:\n",
    "plt.scatter(x,y)\n",
    "xlin = np.linspace(2.5,10.5,50)\n",
    "plt.plot(xlin,(m*xlin+c), color='red')"
   ]
  },
  {
   "cell_type": "markdown",
   "metadata": {},
   "source": [
    "## 3. What if we have estimated uncertainties on the y axis?\n",
    "\n",
    "However, experimantal data often has estimates of how uncertain the measurement is - it has associated errors. \n",
    "\n",
    "Now, functions like linregress() treat all data points as equal. However, it's reasonable to suppose that data points with small errors should be 'weighted' much more heavily that those with large estimated errors. Luckily there are algorithms that do just that.\n",
    "\n",
    "Here we use scipy.optimize.curve_fit() to utilise the error estimates in y that we have in the data\n",
    "\n",
    "This is a much more general function that linregress() and allows you to define the model that you want to fit - you are not constrained to a straight line). Now in this case, we do actually want a straight line but we'll need to define it - in a specific manner using a function.\n",
    "\n",
    "The function takes the model function you define, x and y as well as y errors. (the absolute_sigma=True tells the function we are passing it absolute errors).\n",
    "\n",
    "It returs 2 objects, one containing the optimised parameters to the model and an covariance matrix that contains quite a bit of statistical data. We can use this statistical data to get esimates of how accurate the returned gradient and intercept are:"
   ]
  },
  {
   "cell_type": "code",
   "execution_count": 58,
   "metadata": {},
   "outputs": [
    {
     "data": {
      "text/plain": [
       "<ErrorbarContainer object of 3 artists>"
      ]
     },
     "execution_count": 58,
     "metadata": {},
     "output_type": "execute_result"
    },
    {
     "data": {
      "text/plain": [
       "<matplotlib.collections.PathCollection at 0x22b64570908>"
      ]
     },
     "execution_count": 58,
     "metadata": {},
     "output_type": "execute_result"
    },
    {
     "data": {
      "image/png": "[encoded data removed]",
      "text/plain": [
       "<Figure size 432x288 with 1 Axes>"
      ]
     },
     "metadata": {
      "needs_background": "light"
     },
     "output_type": "display_data"
    }
   ],
   "source": [
    "from scipy.optimize import curve_fit\n",
    "\n",
    "# First get some y error from the DataFrame we've already read in\n",
    "yerror = df['yerr']\n",
    "\n",
    "# Plot it - with error bars\n",
    "plt.errorbar(x, y, yerr=yerror, xerr=0, hold=True, ecolor='k', fmt='none')\n",
    "plt.scatter(x,y)\n"
   ]
  },
  {
   "cell_type": "code",
   "execution_count": 49,
   "metadata": {},
   "outputs": [
    {
     "name": "stdout",
     "output_type": "stream",
     "text": [
      "fit parameter 1-sigma error\n",
      "***************************************************\n",
      "m = 2.48 +- 0.06\n",
      "c = -0.57 +- 0.39\n",
      "***************************************************\n"
     ]
    }
   ],
   "source": [
    "# Define a simple, straight line model, accepting an x value or 1D array and using \n",
    "# gradient and intercept parameters:\n",
    "def stLineFit(x, m, c):\n",
    "    return (m*x + c)\n",
    "\n",
    "# Call the fitting function\n",
    "popt, pcov = curve_fit(stLineFit, x, y, sigma=yerror, absolute_sigma=True)\n",
    "# Calculate the 'accuracy' of the returned parameters\n",
    "perr = np.sqrt(np.diag(pcov)) # error values are on the covariance matrix diagonal\n",
    "\n",
    "#print fit parameters and 1-sigma estimates\n",
    "print('fit parameter 1-sigma error')\n",
    "print('***************************************************')\n",
    "print (f'm = {popt[0]:.2f} +- {perr[0]:.2f}')\n",
    "print (f'c = {popt[1]:.2f} +- {perr[1]:.2f}')\n",
    "print('***************************************************')\n"
   ]
  },
  {
   "cell_type": "markdown",
   "metadata": {},
   "source": [
    "### 3.1 Confidence bounds or limits\n",
    "\n",
    "You could now go on to just plot this new estimated line as before.\n",
    "\n",
    "However, as you can see, we have more information about uncertainties in the gradient and the intercept and we could use this information to show a set of 'confidence' bound around it.\n",
    "\n",
    "First calculate these bound lines"
   ]
  },
  {
   "cell_type": "code",
   "execution_count": 50,
   "metadata": {},
   "outputs": [],
   "source": [
    "# prepare confidence level line limits\n",
    "nstd = 1.0 # to draw 1 sigma interval\n",
    "# Note, remember these are numpy arrays\n",
    "popt_up = popt + nstd*perr\n",
    "popt_dw = popt - nstd*perr\n",
    "\n",
    "# Get the fitted line\n",
    "fit = stLineFit(x, *popt)\n",
    "# Add and subtract error values\n",
    "fit_up = stLineFit(x, *popt_up)\n",
    "fit_dw = stLineFit(x, *popt_dw)\n",
    "\n"
   ]
  },
  {
   "cell_type": "markdown",
   "metadata": {},
   "source": [
    "Now plot it"
   ]
  },
  {
   "cell_type": "code",
   "execution_count": 51,
   "metadata": {},
   "outputs": [
    {
     "data": {
      "text/plain": [
       "<ErrorbarContainer object of 3 artists>"
      ]
     },
     "execution_count": 51,
     "metadata": {},
     "output_type": "execute_result"
    },
    {
     "data": {
      "text/plain": [
       "Text(0.5, 0, 'x')"
      ]
     },
     "execution_count": 51,
     "metadata": {},
     "output_type": "execute_result"
    },
    {
     "data": {
      "text/plain": [
       "Text(0, 0.5, 'y')"
      ]
     },
     "execution_count": 51,
     "metadata": {},
     "output_type": "execute_result"
    },
    {
     "data": {
      "text/plain": [
       "Text(0.5, 1.0, 'x Vs y with best fit line and 1 sigma confidence')"
      ]
     },
     "execution_count": 51,
     "metadata": {},
     "output_type": "execute_result"
    },
    {
     "data": {
      "text/plain": [
       "[<matplotlib.lines.Line2D at 0x22b643fef60>]"
      ]
     },
     "execution_count": 51,
     "metadata": {},
     "output_type": "execute_result"
    },
    {
     "data": {
      "text/plain": [
       "[<matplotlib.lines.Line2D at 0x22b643fef98>]"
      ]
     },
     "execution_count": 51,
     "metadata": {},
     "output_type": "execute_result"
    },
    {
     "data": {
      "text/plain": [
       "<matplotlib.collections.PolyCollection at 0x22b6440c780>"
      ]
     },
     "execution_count": 51,
     "metadata": {},
     "output_type": "execute_result"
    },
    {
     "data": {
      "text/plain": [
       "<matplotlib.legend.Legend at 0x22b6440c748>"
      ]
     },
     "execution_count": 51,
     "metadata": {},
     "output_type": "execute_result"
    },
    {
     "data": {
      "image/png": "[encoded data removed]",
      "text/plain": [
       "<Figure size 432x288 with 1 Axes>"
      ]
     },
     "metadata": {
      "needs_background": "light"
     },
     "output_type": "display_data"
    }
   ],
   "source": [
    "fig, ax = plt.subplots(1)\n",
    "# Set plot parameters\n",
    "plt.rcParams['xtick.labelsize'] = 18\n",
    "plt.rcParams['ytick.labelsize'] = 18\n",
    "plt.rcParams['font.size']= 20\n",
    "plt.errorbar(x, y, yerr=yerror, xerr=0, hold=True, ecolor='k', fmt='none', label='Errors')\n",
    "\n",
    "plt.xlabel('x', fontsize=18)\n",
    "plt.ylabel('y', fontsize=18)\n",
    "plt.title('x Vs y with best fit line and 1 sigma confidence', fontsize=18)\n",
    "plt.plot(x, fit, 'r', lw=2, label='Best fit line')\n",
    "plt.plot(x, y0, 'o', lw=2, label='Data points')\n",
    "ax.fill_between(x, fit_up, fit_dw, alpha=.25, label='1-sigma interval')\n",
    "plt.legend(loc='upper left',fontsize=12)\n",
    "plt.show()"
   ]
  },
  {
   "cell_type": "markdown",
   "metadata": {},
   "source": [
    "## 4. X and Y errors\n",
    "\n",
    "Linear regression tries to minimise the sum of the squares of the 'error'. In 'usual' use (as in curve_fit), the error is the 'y' value residual measured to the fitted line. This is fine unless we have errors in both y AND x. In this case it is better to use the orthoganal distance from the data point to the fitted line - Orthogonal Distance Regression (ODR). So, here we use the scipy odr() function.\n"
   ]
  },
  {
   "cell_type": "code",
   "execution_count": 60,
   "metadata": {},
   "outputs": [
    {
     "name": "stdout",
     "output_type": "stream",
     "text": [
      "fit parameter 1-sigma error\n",
      "***************************************************\n",
      "m = 2.40 +- 0.05\n",
      "c = 0.12 +- 0.33\n",
      "***************************************************\n"
     ]
    },
    {
     "data": {
      "text/plain": [
       "<matplotlib.collections.PathCollection at 0x22b6461e860>"
      ]
     },
     "execution_count": 60,
     "metadata": {},
     "output_type": "execute_result"
    },
    {
     "data": {
      "text/plain": [
       "<ErrorbarContainer object of 3 artists>"
      ]
     },
     "execution_count": 60,
     "metadata": {},
     "output_type": "execute_result"
    },
    {
     "data": {
      "text/plain": [
       "[<matplotlib.lines.Line2D at 0x22b6461ec88>]"
      ]
     },
     "execution_count": 60,
     "metadata": {},
     "output_type": "execute_result"
    },
    {
     "data": {
      "image/png": "[encoded data removed]",
      "text/plain": [
       "<Figure size 432x288 with 1 Axes>"
      ]
     },
     "metadata": {
      "needs_background": "light"
     },
     "output_type": "display_data"
    }
   ],
   "source": [
    "from scipy import odr\n",
    "\n",
    "# Just a simple function to return a straight line for use in ODR.\n",
    "# BUT, note that it is defined in a slightly different way to 'curve_fit()'\n",
    "# You pass it a list/tuple of parameters and 'x' comes at the end - not first\n",
    "def stLine(p,x):\n",
    "    # 'p' is alist containing 'm' and 'c'\n",
    "    m,c = p\n",
    "    return m * x  + c\n",
    "\n",
    "# We also need the x errors\n",
    "xerror=df['xerr']\n",
    "\n",
    "# Need to use scipy 'odr' model for fitting. \n",
    "model = odr.Model(stLine)\n",
    "# Form an odr 'RealData' object\n",
    "rdata = odr.RealData(x,y,sx=xerror,sy=yerror)\n",
    "# Now set up the ODR, \n",
    "# We need an initial 'guess' of m and c - beta0 \n",
    "# We could 'hard wire' this but as we now we are looking at a straight line,\n",
    "# we'll use scipy.stats.linregress() to get an estimate.\n",
    "# We need the first 2 elemts returnes which are slope and intercept (m and c)\n",
    "init_guess = linregress(x,y)[0:2]\n",
    "odr=odr.ODR(rdata, model, beta0=init_guess )\n",
    "\n",
    "# Run it and get the results\n",
    "result_outputs = odr.run()\n",
    "\n",
    "# Extract the data we need\n",
    "popt= result_outputs.beta\n",
    "perr= result_outputs.sd_beta\n",
    "\n",
    "#print fit parameters and 1-sigma estimates\n",
    "print('fit parameter 1-sigma error')\n",
    "print('***************************************************')\n",
    "print (f'm = {popt[0]:.2f} +- {perr[0]:.2f}')\n",
    "print (f'c = {popt[1]:.2f} +- {perr[1]:.2f}')\n",
    "print('***************************************************')\n",
    "\n",
    "# Now plot the data and fitted line:\n",
    "plt.scatter(x,y)\n",
    "plt.errorbar(x, y, yerr=yerror, xerr=xerror, hold=True, ecolor='k', fmt='none')\n",
    "plt.plot(x, stLine((popt[0], popt[1]),x), color='red')\n"
   ]
  },
  {
   "cell_type": "markdown",
   "metadata": {},
   "source": [
    "## 5. Using other models\n",
    "\n",
    "the scipy 'curve_fit()' and 'odr()' functions allow you to define pretty much any model you want to fit your data.\n",
    "\n",
    "As an example - and this will definitely prove useful later, a 'Gaussian' can be defined using 3 parameters:\n",
    "\n",
    "$$a*np.exp(-(x-x0)**2/(2*sigma**2))$$\n",
    "\n",
    "Where a is its amplitude, x0 it's position on the x axis, and sigma a measure of it's width.\n"
   ]
  },
  {
   "cell_type": "code",
   "execution_count": null,
   "metadata": {},
   "outputs": [],
   "source": []
  }
 ],
 "metadata": {
  "kernelspec": {
   "display_name": "Python 3",
   "language": "python",
   "name": "python3"
  },
  "language_info": {
   "codemirror_mode": {
    "name": "ipython",
    "version": 3
   },
   "file_extension": ".py",
   "mimetype": "text/x-python",
   "name": "python",
   "nbconvert_exporter": "python",
   "pygments_lexer": "ipython3",
   "version": "3.7.3"
  }
 },
 "nbformat": 4,
 "nbformat_minor": 2
}
